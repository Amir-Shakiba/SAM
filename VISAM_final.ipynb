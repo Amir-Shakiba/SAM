{
  "nbformat": 4,
  "nbformat_minor": 0,
  "metadata": {
    "colab": {
      "provenance": [],
      "gpuType": "T4",
      "authorship_tag": "ABX9TyNnXLUg8nDW+/HXEyso15oc",
      "include_colab_link": true
    },
    "kernelspec": {
      "name": "python3",
      "display_name": "Python 3"
    },
    "language_info": {
      "name": "python"
    },
    "accelerator": "GPU",
    "gpuClass": "standard"
  },
  "cells": [
    {
      "cell_type": "markdown",
      "metadata": {
        "id": "view-in-github",
        "colab_type": "text"
      },
      "source": [
        "<a href=\"https://colab.research.google.com/github/Amir-Shakiba/SAM/blob/VISAM/VISAM_final.ipynb\" target=\"_parent\"><img src=\"https://colab.research.google.com/assets/colab-badge.svg\" alt=\"Open In Colab\"/></a>"
      ]
    },
    {
      "cell_type": "markdown",
      "source": [
        "#Step 1: Installing Necessary Packages\n",
        "To begin, let's install the required packages for the Segment Anything Model:"
      ],
      "metadata": {
        "id": "HEr9PmkmAsjt"
      }
    },
    {
      "cell_type": "code",
      "source": [
        "!pip install git+https://github.com/facebookresearch/segment-anything.git"
      ],
      "metadata": {
        "id": "VBJDGu3UOovv"
      },
      "execution_count": null,
      "outputs": []
    },
    {
      "cell_type": "markdown",
      "source": [
        "#Step 2: Cloning the Grounded SAM Repository\n",
        "Next, let's clone the repository for Grounded SAM. However, note that VISAM has a symbolic link inside Grounded SAM. To include VISAM, use the --recurse-submodules flag when cloning the repository/"
      ],
      "metadata": {
        "id": "Mr4YUO_ECAL8"
      }
    },
    {
      "cell_type": "code",
      "execution_count": null,
      "metadata": {
        "id": "GxEKCw_2NThe"
      },
      "outputs": [],
      "source": [
        "!git clone --recurse-submodules https://github.com/IDEA-Research/Grounded-Segment-Anything.git\n",
        "%cd Grounded-Segment-Anything"
      ]
    },
    {
      "cell_type": "markdown",
      "source": [
        "#Step 3: Setting Up the Test Dataset\n",
        "To ensure we have the necessary test data for our VISAM implementation, let's organize the data structure "
      ],
      "metadata": {
        "id": "0rrGfoO4CJPC"
      }
    },
    {
      "cell_type": "code",
      "source": [
        "!mkdir -p /data/Dataset/mot/DanceTrack\n",
        "%cd /data/Dataset/mot/DanceTrack\n",
        "!gdown 1Jq6eH2n-WXMJLJ2AoKIZBtvdzKb2zkP5\n",
        "!unzip -q test.zip"
      ],
      "metadata": {
        "id": "4XutDWgCO7eY"
      },
      "execution_count": null,
      "outputs": []
    },
    {
      "cell_type": "markdown",
      "source": [
        "#Step 4: YOLOX Model for Detection\n",
        "In our implementation, we'll use the YOLOX model for object detection. Let's download and set it up:"
      ],
      "metadata": {
        "id": "4dxYd8hEHB0C"
      }
    },
    {
      "cell_type": "code",
      "source": [
        "#yolox detection\n",
        "%cd /data/Dataset/mot/DanceTrack\n",
        "!gdown --id 1cdhtztG4dbj7vzWSVSehLL6s0oPalEJo\n",
        "!unzip det_db_motrv2.zip"
      ],
      "metadata": {
        "id": "8GUCsg_oPdS4"
      },
      "execution_count": null,
      "outputs": []
    },
    {
      "cell_type": "code",
      "source": [
        "%cd /content/Grounded-Segment-Anything"
      ],
      "metadata": {
        "id": "Vlo80BKWRRDR"
      },
      "execution_count": null,
      "outputs": []
    },
    {
      "cell_type": "code",
      "source": [],
      "metadata": {
        "id": "zWsJrG8ZG7f0"
      },
      "execution_count": null,
      "outputs": []
    },
    {
      "cell_type": "markdown",
      "source": [
        "#Step 5: Pretrained Weights for SAM and Dance Tracker\n",
        "Download the pretrained weights for the SAM model:"
      ],
      "metadata": {
        "id": "aFAtT-cjHKm8"
      }
    },
    {
      "cell_type": "code",
      "source": [
        "!wget https://dl.fbaipublicfiles.com/segment_anything/sam_vit_h_4b8939.pth"
      ],
      "metadata": {
        "id": "RAibjPXHRecQ"
      },
      "execution_count": null,
      "outputs": []
    },
    {
      "cell_type": "code",
      "source": [
        "!gdown --id 1EA4lndu2yQcVgBKR09KfMe5efbf631Th \n"
      ],
      "metadata": {
        "id": "A5FWMtgiRm7y"
      },
      "execution_count": null,
      "outputs": []
    },
    {
      "cell_type": "markdown",
      "source": [
        "#Step 6: Installing Deformable Transformers\n",
        "The implementation relies on deformable transformers. Let's install them:"
      ],
      "metadata": {
        "id": "8e6Uh9sBHdPD"
      }
    },
    {
      "cell_type": "code",
      "source": [
        "%cd /content/Grounded-Segment-Anything/VISAM/models/ops"
      ],
      "metadata": {
        "colab": {
          "base_uri": "https://localhost:8080/"
        },
        "id": "LK8l51lgXM6n",
        "outputId": "83d2768b-b187-4493-ae3f-e599362af84c"
      },
      "execution_count": null,
      "outputs": [
        {
          "output_type": "stream",
          "name": "stdout",
          "text": [
            "/content/Grounded-Segment-Anything/VISAM/models/ops\n"
          ]
        }
      ]
    },
    {
      "cell_type": "code",
      "source": [
        "!sh make.sh"
      ],
      "metadata": {
        "id": "Fmk0iVaCSUpo"
      },
      "execution_count": null,
      "outputs": []
    },
    {
      "cell_type": "code",
      "source": [
        "%cd /content/Grounded-Segment-Anything"
      ],
      "metadata": {
        "id": "kz9ZkQjfXbe1"
      },
      "execution_count": null,
      "outputs": []
    },
    {
      "cell_type": "markdown",
      "source": [
        "#Step 7: Obtaining Results\n",
        "Finally, let's obtain the results using the following command:"
      ],
      "metadata": {
        "id": "-dYlPr4zHnRi"
      }
    },
    {
      "cell_type": "code",
      "source": [
        "# export CUDA_VISIBLE_DEVICES=0\n",
        "!python grounded_sam_visam.py \\\n",
        "  --meta_arch motr\\\n",
        "   --dataset_file e2e_dance \\\n",
        "   --with_box_refine --batch_size 1 --sample_mode random_interval\\\n",
        "    --sample_interval 10 --sampler_lengths 5 --merger_dropout 0 \\\n",
        "    --dropout 0 --random_drop 0.1 --fp_ratio 0.3 --query_interaction_layer QIMv2 \\\n",
        "    --query_denoise 0.05 --num_queries 10 --append_crowd --det_db det_db_motrv2.json\\\n",
        "     --use_checkpoint --mot_path /data/Dataset/mot  --resume motrv2_dancetrack.pth\\\n",
        "      --sam_checkpoint sam_vit_h_4b8939.pth --video_path DanceTrack/test/dancetrack0100"
      ],
      "metadata": {
        "id": "TpTqgIVPOq4k"
      },
      "execution_count": null,
      "outputs": []
    },
    {
      "cell_type": "markdown",
      "source": [
        "#copying the video result to drive"
      ],
      "metadata": {
        "id": "p0cbZQKCJXni"
      }
    },
    {
      "cell_type": "code",
      "source": [
        "%cd /content"
      ],
      "metadata": {
        "id": "ZNYqM1B2JqK5"
      },
      "execution_count": null,
      "outputs": []
    },
    {
      "cell_type": "code",
      "source": [
        "from google.colab import drive\n",
        "drive.mount('Gdrive')"
      ],
      "metadata": {
        "colab": {
          "base_uri": "https://localhost:8080/"
        },
        "id": "g9LTRP9FoYBM",
        "outputId": "c81735fa-f22f-4c2d-9db2-9d02c82aea22"
      },
      "execution_count": null,
      "outputs": [
        {
          "output_type": "stream",
          "name": "stdout",
          "text": [
            "Mounted at Gdrive\n"
          ]
        }
      ]
    },
    {
      "cell_type": "code",
      "source": [
        "!cp /content/Grounded-Segment-Anything/visam.avi /content/Gdrive/MyDrive/Colab\\ Notebooks/"
      ],
      "metadata": {
        "id": "CFR0uCbpoejI"
      },
      "execution_count": null,
      "outputs": []
    }
  ]
}